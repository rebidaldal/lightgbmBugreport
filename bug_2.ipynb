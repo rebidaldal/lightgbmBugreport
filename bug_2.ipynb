{
 "cells": [
  {
   "cell_type": "code",
   "execution_count": 1,
   "metadata": {},
   "outputs": [],
   "source": [
    "import pandas as pd\n",
    "import lightgbm as lgb\n",
    "import numpy as np"
   ]
  },
  {
   "cell_type": "code",
   "execution_count": 2,
   "metadata": {},
   "outputs": [
    {
     "data": {
      "text/plain": [
       "'3.0.0'"
      ]
     },
     "execution_count": 2,
     "metadata": {},
     "output_type": "execute_result"
    }
   ],
   "source": [
    "lgb.__version__"
   ]
  },
  {
   "cell_type": "code",
   "execution_count": 3,
   "metadata": {},
   "outputs": [
    {
     "name": "stdout",
     "output_type": "stream",
     "text": [
      "(354659, 100)\n",
      "(354659, 1)\n",
      "(399950, 100)\n"
     ]
    }
   ],
   "source": [
    "# Create X_train, y_train, X_test, y_test\n",
    "\n",
    "X_train = pd.read_feather(\"X_train.feather\")\n",
    "y_train = pd.read_feather(\"y_train.feather\")\n",
    "\n",
    "X_test = pd.read_feather(\"X_test.feather\")\n",
    "\n",
    "print(X_train.shape)\n",
    "print(y_train.shape)\n",
    "\n",
    "print(X_test.shape)\n"
   ]
  },
  {
   "cell_type": "code",
   "execution_count": 4,
   "metadata": {
    "scrolled": true
   },
   "outputs": [],
   "source": [
    "param = {}\n",
    "param['boosting_type']      = 'gbdt'\n",
    "param['feature_fraction']   = 0.2\n",
    "param['feature_fraction_bynode']   = 0.5 #solves\n",
    "param['lambda_l2']          = 1\n",
    "param['learning_rate']      = 0.02\n",
    "param['max_bin']          = 31\n",
    "param['max_delta_step']          = 63\n",
    "param['max_depth']          = 20\n",
    "param['metric']             = 'rmse'\n",
    "param['min_data_in_bin']       = 100\n",
    "param['min_data_in_leaf']   = 8191\n",
    "param['min_gain_to_split']       = 1\n",
    "param['num_leaves']         = 100\n",
    "param['objective']          = 'regression'\n",
    "param['verbosity']          = -1\n",
    "param['seed'] = 1\n",
    "param[\"force_col_wise\"] = True"
   ]
  },
  {
   "cell_type": "code",
   "execution_count": 5,
   "metadata": {},
   "outputs": [
    {
     "data": {
      "text/plain": [
       "array([15.08536502, 15.08572799, 15.10708202, ..., 15.06541335,\n",
       "       15.00730375, 14.91226183])"
      ]
     },
     "execution_count": 5,
     "metadata": {},
     "output_type": "execute_result"
    }
   ],
   "source": [
    "dTrain = lgb.Dataset(X_train, label=y_train) \n",
    "model = lgb.train( param, dTrain, 1000)\n",
    "preds = model.predict(X_test)\n",
    "preds"
   ]
  },
  {
   "cell_type": "code",
   "execution_count": 6,
   "metadata": {
    "scrolled": true
   },
   "outputs": [
    {
     "data": {
      "text/plain": [
       "array([15.13448509, 15.10872418, 15.0876318 , ..., 15.05337807,\n",
       "       15.03716028, 14.89823865])"
      ]
     },
     "execution_count": 6,
     "metadata": {},
     "output_type": "execute_result"
    }
   ],
   "source": [
    "dTrain = lgb.Dataset(X_train, label=y_train)    \n",
    "model2 = lgb.train( param, dTrain, 1000)\n",
    "preds2 = model2.predict(X_test)\n",
    "preds2"
   ]
  },
  {
   "cell_type": "code",
   "execution_count": 7,
   "metadata": {
    "scrolled": true
   },
   "outputs": [
    {
     "data": {
      "text/plain": [
       "array([15.08536502, 15.08572799, 15.10708202, ..., 15.06541335,\n",
       "       15.00730375, 14.91226183])"
      ]
     },
     "execution_count": 7,
     "metadata": {},
     "output_type": "execute_result"
    }
   ],
   "source": [
    "dTrain = lgb.Dataset(X_train, label=y_train)    \n",
    "model3 = lgb.train( param, dTrain, 1000)\n",
    "preds3 = model3.predict(X_test)\n",
    "preds3"
   ]
  },
  {
   "cell_type": "code",
   "execution_count": 8,
   "metadata": {},
   "outputs": [
    {
     "data": {
      "text/plain": [
       "array([15.06415298, 15.05877895, 15.06493341, ..., 15.08661083,\n",
       "       15.0318991 , 14.9445281 ])"
      ]
     },
     "execution_count": 8,
     "metadata": {},
     "output_type": "execute_result"
    }
   ],
   "source": [
    "dTrain = lgb.Dataset(X_train, label=y_train)    \n",
    "model4 = lgb.train( param, dTrain, 1000)\n",
    "preds4 = model4.predict(X_test)\n",
    "preds4"
   ]
  },
  {
   "cell_type": "code",
   "execution_count": 9,
   "metadata": {},
   "outputs": [
    {
     "data": {
      "text/plain": [
       "array([15.06710662, 15.02269787, 15.04029656, ..., 15.07100491,\n",
       "       15.02228815, 14.90104465])"
      ]
     },
     "execution_count": 9,
     "metadata": {},
     "output_type": "execute_result"
    }
   ],
   "source": [
    "model5 = lgb.train( param, dTrain, 1000)\n",
    "preds5 = model5.predict(X_test)\n",
    "preds5"
   ]
  },
  {
   "cell_type": "code",
   "execution_count": 10,
   "metadata": {},
   "outputs": [
    {
     "data": {
      "text/plain": [
       "array([[1.        , 0.98241227],\n",
       "       [0.98241227, 1.        ]])"
      ]
     },
     "execution_count": 10,
     "metadata": {},
     "output_type": "execute_result"
    }
   ],
   "source": [
    "np.corrcoef(preds, preds2)"
   ]
  },
  {
   "cell_type": "code",
   "execution_count": 11,
   "metadata": {},
   "outputs": [
    {
     "data": {
      "text/plain": [
       "array([[1., 1.],\n",
       "       [1., 1.]])"
      ]
     },
     "execution_count": 11,
     "metadata": {},
     "output_type": "execute_result"
    }
   ],
   "source": [
    "np.corrcoef(preds, preds3)"
   ]
  },
  {
   "cell_type": "code",
   "execution_count": null,
   "metadata": {},
   "outputs": [],
   "source": []
  }
 ],
 "metadata": {
  "kernelspec": {
   "display_name": "Python 3",
   "language": "python",
   "name": "python3"
  },
  "language_info": {
   "codemirror_mode": {
    "name": "ipython",
    "version": 3
   },
   "file_extension": ".py",
   "mimetype": "text/x-python",
   "name": "python",
   "nbconvert_exporter": "python",
   "pygments_lexer": "ipython3",
   "version": "3.8.5"
  }
 },
 "nbformat": 4,
 "nbformat_minor": 4
}
