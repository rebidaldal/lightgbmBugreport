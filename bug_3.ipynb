{
 "cells": [
  {
   "cell_type": "code",
   "execution_count": 9,
   "metadata": {},
   "outputs": [],
   "source": [
    "import pandas as pd\n",
    "import lightgbm as lgb\n",
    "import numpy as np\n",
    "import pickle"
   ]
  },
  {
   "cell_type": "code",
   "execution_count": 10,
   "metadata": {},
   "outputs": [
    {
     "data": {
      "text/plain": [
       "'3.0.0'"
      ]
     },
     "execution_count": 10,
     "metadata": {},
     "output_type": "execute_result"
    }
   ],
   "source": [
    "lgb.__version__"
   ]
  },
  {
   "cell_type": "code",
   "execution_count": 11,
   "metadata": {},
   "outputs": [
    {
     "name": "stdout",
     "output_type": "stream",
     "text": [
      "(354659, 100)\n",
      "(354659, 1)\n",
      "(399950, 100)\n"
     ]
    }
   ],
   "source": [
    "# Create X_train, y_train, X_test, y_test\n",
    "\n",
    "X_train = pd.read_feather(\"../X_train.feather\")\n",
    "y_train = pd.read_feather(\"y_train.feather\")\n",
    "\n",
    "X_test = pd.read_feather(\"../X_test.feather\")\n",
    "\n",
    "print(X_train.shape)\n",
    "print(y_train.shape)\n",
    "\n",
    "print(X_test.shape)\n"
   ]
  },
  {
   "cell_type": "code",
   "execution_count": 29,
   "metadata": {
    "scrolled": true
   },
   "outputs": [],
   "source": [
    "param = {}\n",
    "param['boosting_type']      = 'gbdt'\n",
    "#param['feature_fraction_bynode']   = 0.5\n",
    "param['objective']          = 'regression'\n",
    "param['verbosity']          = -1\n",
    "param['feature_fraction_seed'] = 1\n",
    "param[\"force_col_wise\"] = True"
   ]
  },
  {
   "cell_type": "code",
   "execution_count": 30,
   "metadata": {},
   "outputs": [
    {
     "data": {
      "text/plain": [
       "array([14.63570672, 14.31799952, 14.60157817, ..., 14.68726359,\n",
       "       14.48253542, 14.97225771])"
      ]
     },
     "execution_count": 30,
     "metadata": {},
     "output_type": "execute_result"
    }
   ],
   "source": [
    "dTrain = lgb.Dataset(X_train, label=y_train) \n",
    "model = lgb.train( param, dTrain, 1000)\n",
    "preds = model.predict(X_test)\n",
    "preds"
   ]
  },
  {
   "cell_type": "code",
   "execution_count": null,
   "metadata": {},
   "outputs": [
    {
     "name": "stdout",
     "output_type": "stream",
     "text": [
      "[[1.         0.99998854]\n",
      " [0.99998854 1.        ]]\n",
      "[[1.         0.99999218]\n",
      " [0.99999218 1.        ]]\n",
      "[[1.        0.9999978]\n",
      " [0.9999978 1.       ]]\n",
      "[[1.         0.99999427]\n",
      " [0.99999427 1.        ]]\n",
      "[[1.         0.99999441]\n",
      " [0.99999441 1.        ]]\n",
      "[[1.         0.99999427]\n",
      " [0.99999427 1.        ]]\n",
      "[[1.         0.99999427]\n",
      " [0.99999427 1.        ]]\n",
      "[[1.         0.99999218]\n",
      " [0.99999218 1.        ]]\n",
      "[[1.         0.99999427]\n",
      " [0.99999427 1.        ]]\n",
      "[[1.         0.99999441]\n",
      " [0.99999441 1.        ]]\n",
      "[[1.         0.99999441]\n",
      " [0.99999441 1.        ]]\n",
      "[[1.         0.99999429]\n",
      " [0.99999429 1.        ]]\n",
      "[[1.        0.9999978]\n",
      " [0.9999978 1.       ]]\n",
      "[[1.        0.9999978]\n",
      " [0.9999978 1.       ]]\n",
      "[[1.         0.99999427]\n",
      " [0.99999427 1.        ]]\n",
      "[[1.         0.99999429]\n",
      " [0.99999429 1.        ]]\n",
      "[[1.        0.9999978]\n",
      " [0.9999978 1.       ]]\n",
      "[[1.         0.99999218]\n",
      " [0.99999218 1.        ]]\n",
      "[[1.         0.99999218]\n",
      " [0.99999218 1.        ]]\n",
      "[[1.         0.99998614]\n",
      " [0.99998614 1.        ]]\n",
      "[[1.         0.99999441]\n",
      " [0.99999441 1.        ]]\n",
      "[[1.         0.99999218]\n",
      " [0.99999218 1.        ]]\n",
      "[[1.         0.99999427]\n",
      " [0.99999427 1.        ]]\n",
      "[[1.         0.99999427]\n",
      " [0.99999427 1.        ]]\n",
      "[[1.         0.99999218]\n",
      " [0.99999218 1.        ]]\n",
      "[[1.         0.99999218]\n",
      " [0.99999218 1.        ]]\n",
      "[[1.         0.99999427]\n",
      " [0.99999427 1.        ]]\n",
      "[[1.         0.99999441]\n",
      " [0.99999441 1.        ]]\n",
      "[[1.         0.99998614]\n",
      " [0.99998614 1.        ]]\n",
      "[[1.         0.99999429]\n",
      " [0.99999429 1.        ]]\n",
      "[[1.         0.99999218]\n",
      " [0.99999218 1.        ]]\n",
      "[[1.         0.99999218]\n",
      " [0.99999218 1.        ]]\n",
      "[[1.         0.99998854]\n",
      " [0.99998854 1.        ]]\n",
      "[[1.         0.99999218]\n",
      " [0.99999218 1.        ]]\n",
      "[[1.         0.99999427]\n",
      " [0.99999427 1.        ]]\n",
      "[[1.         0.99999218]\n",
      " [0.99999218 1.        ]]\n",
      "[[1.         0.99998614]\n",
      " [0.99998614 1.        ]]\n",
      "[[1.         0.99999218]\n",
      " [0.99999218 1.        ]]\n",
      "[[1.         0.99999218]\n",
      " [0.99999218 1.        ]]\n",
      "[[1.         0.99999218]\n",
      " [0.99999218 1.        ]]\n",
      "[[1.         0.99999427]\n",
      " [0.99999427 1.        ]]\n",
      "[[1.         0.99999218]\n",
      " [0.99999218 1.        ]]\n",
      "[[1.         0.99999218]\n",
      " [0.99999218 1.        ]]\n",
      "[[1.         0.99998614]\n",
      " [0.99998614 1.        ]]\n",
      "[[1.         0.99999218]\n",
      " [0.99999218 1.        ]]\n",
      "[[1.         0.99999218]\n",
      " [0.99999218 1.        ]]\n",
      "[[1.         0.99999218]\n",
      " [0.99999218 1.        ]]\n",
      "[[1.         0.99999427]\n",
      " [0.99999427 1.        ]]\n",
      "[[1.         0.99999441]\n",
      " [0.99999441 1.        ]]\n",
      "[[1.         0.99999218]\n",
      " [0.99999218 1.        ]]\n",
      "[[1.         0.99999441]\n",
      " [0.99999441 1.        ]]\n",
      "[[1.         0.99999218]\n",
      " [0.99999218 1.        ]]\n",
      "[[1.         0.99999427]\n",
      " [0.99999427 1.        ]]\n",
      "[[1.         0.99999427]\n",
      " [0.99999427 1.        ]]\n",
      "[[1.         0.99999427]\n",
      " [0.99999427 1.        ]]\n",
      "[[1.         0.99999997]\n",
      " [0.99999997 1.        ]]\n",
      "[[1.         0.99999218]\n",
      " [0.99999218 1.        ]]\n",
      "[[1.         0.99999218]\n",
      " [0.99999218 1.        ]]\n",
      "[[1.        0.9999978]\n",
      " [0.9999978 1.       ]]\n",
      "[[1.         0.99999218]\n",
      " [0.99999218 1.        ]]\n",
      "[[1.         0.99999218]\n",
      " [0.99999218 1.        ]]\n",
      "[[1.         0.99999128]\n",
      " [0.99999128 1.        ]]\n",
      "[[1.         0.99999441]\n",
      " [0.99999441 1.        ]]\n",
      "[[1.         0.99999427]\n",
      " [0.99999427 1.        ]]\n",
      "[[1.        0.9999978]\n",
      " [0.9999978 1.       ]]\n",
      "[[1.         0.99999441]\n",
      " [0.99999441 1.        ]]\n",
      "[[1.         0.99999441]\n",
      " [0.99999441 1.        ]]\n",
      "[[1.         0.99999218]\n",
      " [0.99999218 1.        ]]\n",
      "[[1.         0.99999218]\n",
      " [0.99999218 1.        ]]\n",
      "[[1.         0.99999441]\n",
      " [0.99999441 1.        ]]\n",
      "[[1.         0.99999218]\n",
      " [0.99999218 1.        ]]\n",
      "[[1.         0.99999218]\n",
      " [0.99999218 1.        ]]\n",
      "[[1.         0.99999218]\n",
      " [0.99999218 1.        ]]\n",
      "[[1.         0.99998614]\n",
      " [0.99998614 1.        ]]\n",
      "[[1.         0.99999218]\n",
      " [0.99999218 1.        ]]\n"
     ]
    }
   ],
   "source": [
    "for i in range(100):\n",
    "    dTrain = lgb.Dataset(X_train, label=y_train)    \n",
    "    model2 = lgb.train( param, dTrain, 1000)\n",
    "    preds2 = model2.predict(X_test)\n",
    "    print(np.corrcoef(preds, preds2))"
   ]
  },
  {
   "cell_type": "code",
   "execution_count": 31,
   "metadata": {
    "scrolled": true
   },
   "outputs": [
    {
     "data": {
      "text/plain": [
       "array([14.63570672, 14.31799952, 14.60157817, ..., 14.68726359,\n",
       "       14.48253542, 14.97225771])"
      ]
     },
     "execution_count": 31,
     "metadata": {},
     "output_type": "execute_result"
    }
   ],
   "source": [
    "dTrain = lgb.Dataset(X_train, label=y_train)    \n",
    "model2 = lgb.train( param, dTrain, 1000)\n",
    "preds2 = model2.predict(X_test)\n",
    "preds2"
   ]
  },
  {
   "cell_type": "code",
   "execution_count": 32,
   "metadata": {
    "scrolled": true
   },
   "outputs": [
    {
     "data": {
      "text/plain": [
       "array([14.63570672, 14.31799952, 14.60157817, ..., 14.68726359,\n",
       "       14.48253542, 14.97225771])"
      ]
     },
     "execution_count": 32,
     "metadata": {},
     "output_type": "execute_result"
    }
   ],
   "source": [
    "dTrain = lgb.Dataset(X_train, label=y_train)    \n",
    "model3 = lgb.train( param, dTrain, 1000)\n",
    "preds3 = model3.predict(X_test)\n",
    "preds3"
   ]
  },
  {
   "cell_type": "code",
   "execution_count": 33,
   "metadata": {},
   "outputs": [
    {
     "data": {
      "text/plain": [
       "array([14.63570672, 14.31799952, 14.60157817, ..., 14.68726359,\n",
       "       14.48253542, 14.97225771])"
      ]
     },
     "execution_count": 33,
     "metadata": {},
     "output_type": "execute_result"
    }
   ],
   "source": [
    "dTrain = lgb.Dataset(X_train, label=y_train)    \n",
    "model4 = lgb.train( param, dTrain, 1000)\n",
    "preds4 = model4.predict(X_test)\n",
    "preds4"
   ]
  },
  {
   "cell_type": "code",
   "execution_count": 34,
   "metadata": {},
   "outputs": [
    {
     "data": {
      "text/plain": [
       "array([14.63570672, 14.31799952, 14.60157817, ..., 14.68726359,\n",
       "       14.48253542, 14.97225771])"
      ]
     },
     "execution_count": 34,
     "metadata": {},
     "output_type": "execute_result"
    }
   ],
   "source": [
    "model5 = lgb.train( param, dTrain, 1000)\n",
    "preds5 = model5.predict(X_test)\n",
    "preds5"
   ]
  },
  {
   "cell_type": "code",
   "execution_count": 35,
   "metadata": {},
   "outputs": [
    {
     "data": {
      "text/plain": [
       "array([[1.        , 0.99998614],\n",
       "       [0.99998614, 1.        ]])"
      ]
     },
     "execution_count": 35,
     "metadata": {},
     "output_type": "execute_result"
    }
   ],
   "source": [
    "np.corrcoef(preds, preds2)"
   ]
  },
  {
   "cell_type": "code",
   "execution_count": 36,
   "metadata": {},
   "outputs": [
    {
     "data": {
      "text/plain": [
       "array([[1.        , 0.99999218],\n",
       "       [0.99999218, 1.        ]])"
      ]
     },
     "execution_count": 36,
     "metadata": {},
     "output_type": "execute_result"
    }
   ],
   "source": [
    "np.corrcoef(preds, preds3)"
   ]
  },
  {
   "cell_type": "code",
   "execution_count": 18,
   "metadata": {},
   "outputs": [
    {
     "ename": "AttributeError",
     "evalue": "'Booster' object has no attribute 'feature_fraction_seed'",
     "output_type": "error",
     "traceback": [
      "\u001b[0;31m---------------------------------------------------------------------------\u001b[0m",
      "\u001b[0;31mAttributeError\u001b[0m                            Traceback (most recent call last)",
      "\u001b[0;32m<ipython-input-18-d86bd2bd2b75>\u001b[0m in \u001b[0;36m<module>\u001b[0;34m\u001b[0m\n\u001b[0;32m----> 1\u001b[0;31m \u001b[0mmodel\u001b[0m\u001b[0;34m.\u001b[0m\u001b[0mfeature_fraction_seed\u001b[0m\u001b[0;34m\u001b[0m\u001b[0;34m\u001b[0m\u001b[0m\n\u001b[0m",
      "\u001b[0;31mAttributeError\u001b[0m: 'Booster' object has no attribute 'feature_fraction_seed'"
     ]
    }
   ],
   "source": [
    "model.feature_fraction_seed"
   ]
  },
  {
   "cell_type": "code",
   "execution_count": 28,
   "metadata": {},
   "outputs": [
    {
     "data": {
      "text/plain": [
       "{'boosting_type': 'gbdt',\n",
       " 'feature_fraction_bynode': 0.5,\n",
       " 'objective': 'regression',\n",
       " 'verbosity': -1,\n",
       " 'feature_fraction_seed': 1,\n",
       " 'force_col_wise': True,\n",
       " 'num_iterations': 1000,\n",
       " 'early_stopping_round': None}"
      ]
     },
     "execution_count": 28,
     "metadata": {},
     "output_type": "execute_result"
    }
   ],
   "source": [
    "model.params"
   ]
  },
  {
   "cell_type": "code",
   "execution_count": 21,
   "metadata": {},
   "outputs": [],
   "source": [
    "model.attr(\"feature_fraction_seed\")"
   ]
  }
 ],
 "metadata": {
  "kernelspec": {
   "display_name": "Python 3",
   "language": "python",
   "name": "python3"
  },
  "language_info": {
   "codemirror_mode": {
    "name": "ipython",
    "version": 3
   },
   "file_extension": ".py",
   "mimetype": "text/x-python",
   "name": "python",
   "nbconvert_exporter": "python",
   "pygments_lexer": "ipython3",
   "version": "3.8.5"
  }
 },
 "nbformat": 4,
 "nbformat_minor": 4
}
