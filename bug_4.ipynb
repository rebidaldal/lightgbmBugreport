{
 "cells": [
  {
   "cell_type": "code",
   "execution_count": 1,
   "metadata": {},
   "outputs": [],
   "source": [
    "import pandas as pd\n",
    "import lightgbm as lgb\n",
    "import numpy as np\n",
    "import pickle\n",
    "import os"
   ]
  },
  {
   "cell_type": "code",
   "execution_count": 2,
   "metadata": {},
   "outputs": [
    {
     "data": {
      "text/plain": [
       "'3.0.0'"
      ]
     },
     "execution_count": 2,
     "metadata": {},
     "output_type": "execute_result"
    }
   ],
   "source": [
    "lgb.__version__"
   ]
  },
  {
   "cell_type": "code",
   "execution_count": 3,
   "metadata": {},
   "outputs": [],
   "source": [
    "np.set_printoptions(precision=2)"
   ]
  },
  {
   "cell_type": "code",
   "execution_count": 4,
   "metadata": {},
   "outputs": [
    {
     "name": "stdout",
     "output_type": "stream",
     "text": [
      "(354659, 100)\n",
      "(354659, 1)\n",
      "(399950, 100)\n"
     ]
    }
   ],
   "source": [
    "# Create X_train, y_train, X_test, y_test\n",
    "\n",
    "X_train = pd.read_feather(\"X_train.feather\")\n",
    "y_train = pd.read_feather(\"y_train.feather\")\n",
    "\n",
    "X_test = pd.read_feather(\"X_test.feather\")\n",
    "\n",
    "print(X_train.shape)\n",
    "print(y_train.shape)\n",
    "\n",
    "print(X_test.shape)\n"
   ]
  },
  {
   "cell_type": "code",
   "execution_count": 5,
   "metadata": {},
   "outputs": [
    {
     "name": "stdout",
     "output_type": "stream",
     "text": [
      "[[1.   0.74 0.78 0.87 0.74]\n",
      " [0.74 1.   0.74 0.73 0.81]\n",
      " [0.78 0.74 1.   0.77 0.73]\n",
      " [0.87 0.73 0.77 1.   0.73]\n",
      " [0.74 0.81 0.73 0.73 1.  ]]\n"
     ]
    }
   ],
   "source": [
    "param = {}\n",
    "param['boosting_type']      = 'gbdt'\n",
    "param['feature_fraction_bynode']   = 0.5\n",
    "param['objective']          = 'regression'\n",
    "param['verbosity']          = -1\n",
    "param['seed'] = 1\n",
    "param[\"force_col_wise\"] = True\n",
    "param[\"boost_from_average\"] = False\n",
    "\n",
    "preds = []\n",
    "for i in range(5):\n",
    "    dTrain = lgb.Dataset(X_train, label=y_train)    \n",
    "    model = lgb.train( param, dTrain, 1000)\n",
    "    preds.append( model.predict(X_test))\n",
    "print(np.corrcoef(preds))"
   ]
  },
  {
   "cell_type": "code",
   "execution_count": 6,
   "metadata": {},
   "outputs": [
    {
     "data": {
      "text/plain": [
       "32"
      ]
     },
     "execution_count": 6,
     "metadata": {},
     "output_type": "execute_result"
    }
   ],
   "source": [
    "os.cpu_count()"
   ]
  },
  {
   "cell_type": "code",
   "execution_count": 7,
   "metadata": {},
   "outputs": [
    {
     "name": "stdout",
     "output_type": "stream",
     "text": [
      "num threads: 1\n",
      "[[1. 1. 1. 1. 1.]\n",
      " [1. 1. 1. 1. 1.]\n",
      " [1. 1. 1. 1. 1.]\n",
      " [1. 1. 1. 1. 1.]\n",
      " [1. 1. 1. 1. 1.]]\n",
      "num threads: 2\n",
      "[[1. 1. 1. 1. 1.]\n",
      " [1. 1. 1. 1. 1.]\n",
      " [1. 1. 1. 1. 1.]\n",
      " [1. 1. 1. 1. 1.]\n",
      " [1. 1. 1. 1. 1.]]\n",
      "num threads: 4\n",
      "[[1. 1. 1. 1. 1.]\n",
      " [1. 1. 1. 1. 1.]\n",
      " [1. 1. 1. 1. 1.]\n",
      " [1. 1. 1. 1. 1.]\n",
      " [1. 1. 1. 1. 1.]]\n",
      "num threads: 8\n",
      "[[1.   0.89 1.   0.89 0.89]\n",
      " [0.89 1.   0.89 1.   1.  ]\n",
      " [1.   0.89 1.   0.89 0.89]\n",
      " [0.89 1.   0.89 1.   1.  ]\n",
      " [0.89 1.   0.89 1.   1.  ]]\n",
      "num threads: 16\n",
      "[[1.   0.89 0.83 0.83 0.84]\n",
      " [0.89 1.   0.83 0.83 0.83]\n",
      " [0.83 0.83 1.   1.   0.85]\n",
      " [0.83 0.83 1.   1.   0.85]\n",
      " [0.84 0.83 0.85 0.85 1.  ]]\n",
      "num threads: 32\n",
      "[[1.   0.83 1.   0.89 0.89]\n",
      " [0.83 1.   0.83 0.83 0.83]\n",
      " [1.   0.83 1.   0.89 0.89]\n",
      " [0.89 0.83 0.89 1.   1.  ]\n",
      " [0.89 0.83 0.89 1.   1.  ]]\n"
     ]
    }
   ],
   "source": [
    "param = {}\n",
    "param['boosting_type']      = 'gbdt'\n",
    "param['feature_fraction_bynode']   = 0.5\n",
    "param['objective']          = 'regression'\n",
    "param['verbosity']          = -1\n",
    "param['seed'] = 1\n",
    "param[\"force_col_wise\"] = True\n",
    "\n",
    "for n in range(6):\n",
    "    param[\"num_threads\"] = 2 ** n\n",
    "    print(f'num threads: {param[\"num_threads\"]}')\n",
    "    preds = []\n",
    "    for i in range(5):\n",
    "        dTrain = lgb.Dataset(X_train, label=y_train)    \n",
    "        model = lgb.train( param, dTrain, 1000)\n",
    "        preds.append( model.predict(X_test))\n",
    "    print(np.corrcoef(preds))"
   ]
  }
 ],
 "metadata": {
  "kernelspec": {
   "display_name": "Python 3",
   "language": "python",
   "name": "python3"
  },
  "language_info": {
   "codemirror_mode": {
    "name": "ipython",
    "version": 3
   },
   "file_extension": ".py",
   "mimetype": "text/x-python",
   "name": "python",
   "nbconvert_exporter": "python",
   "pygments_lexer": "ipython3",
   "version": "3.8.5"
  }
 },
 "nbformat": 4,
 "nbformat_minor": 4
}
